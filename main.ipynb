{
    "cells": [
        {
            "cell_type": "code",
            "execution_count": 8,
            "metadata": {},
            "outputs": [],
            "source": [
                "def is_ascii(s):\n",
                "    try:\n",
                "        s.encode().decode('ascii')\n",
                "        return True\n",
                "    except UnicodeDecodeError:\n",
                "        return False\n",
                "\n",
                "def filter(s):\n",
                "    filtered_string = \" \".join([s for s in s.split() if is_ascii(s)])\n",
                "    filtered_string = filtered_string.replace(\"\\'\", \"-\")\n",
                "    filtered_string = filtered_string.replace(\"\\\"\", \"-\")\n",
                "    filtered_string = filtered_string.replace(\":\", \"-\")\n",
                "    return filtered_string\n"
            ]
        },
        {
            "cell_type": "code",
            "execution_count": 9,
            "metadata": {
                "tags": []
            },
            "outputs": [],
            "source": [
                "def load_dataset(raw_data_path):\n",
                "    import pandas\n",
                "    data = pandas.read_csv(raw_data_path)\n",
                "\n",
                "    dataset = [] # list of all questions. each question is a tuple of title, text and a list of all answers\n",
                "    for questionTitle in data[\"questionTitle\"].unique():\n",
                "        df = data[data[\"questionTitle\"] == questionTitle]\n",
                "        \n",
                "        title = filter(df.iloc[0, df.columns.get_loc('questionTitle')])\n",
                "        text = filter(df.iloc[0, df.columns.get_loc('questionText')])\n",
                "        answers = []\n",
                "\n",
                "        for answer in df[\"answerText\"]:\n",
                "            answers.append(filter(answer))\n",
                "\n",
                "        dataset.append((title, text, answers))\n",
                "\n",
                "    return dataset"
            ]
        },
        {
            "cell_type": "code",
            "execution_count": 10,
            "metadata": {},
            "outputs": [],
            "source": [
                "nlu_pre = '''version: \"2.0\"\n",
                "nlu:\n",
                "'''\n",
                "\n",
                "nlu = '''- intent: faq/{id}\n",
                "  examples: |\n",
                "    - {title}\n",
                "    - {text}\n",
                "'''\n",
                "\n",
                "nlu_post = '''rules:\n",
                "- rule: respond to FAQs\n",
                "  steps:\n",
                "    - intent: faq\n",
                "    - action: utter_faq\n",
                "'''"
            ]
        },
        {
            "cell_type": "code",
            "execution_count": 11,
            "metadata": {},
            "outputs": [],
            "source": [
                "domain_pre = '''version: \"2.0\"\n",
                "intents:\n",
                "  - faq\n",
                "responses:\n",
                "'''\n",
                "\n",
                "domain_id = '''  utter_faq/{id}:\n",
                "'''\n",
                "\n",
                "domain = '''    - text: {answer}\n",
                "'''"
            ]
        },
        {
            "cell_type": "code",
            "execution_count": 12,
            "metadata": {},
            "outputs": [],
            "source": [
                "def write_nlu(dataset, nlu_path):\n",
                "    global nlu_pre, nlu, nlu_post\n",
                "    i = 0\n",
                "    \n",
                "    for i in range(len(dataset)):\n",
                "        nlu_pre += nlu.format(id = i, title = dataset[i][0], text = dataset[i][1])\n",
                "    nlu_pre += nlu_post\n",
                "\n",
                "    with open(nlu_path, \"w\") as file:\n",
                "        file.write(nlu_pre)\n"
            ]
        },
        {
            "cell_type": "code",
            "execution_count": 13,
            "metadata": {},
            "outputs": [],
            "source": [
                "def write_domain(dataset, domain_path):\n",
                "    global domain_pre, domain_id, domain\n",
                "    i = 0\n",
                "    \n",
                "    for i in range(len(dataset)):\n",
                "        domain_pre += domain_id.format(id = i)\n",
                "        for answer in dataset[i][2]:\n",
                "            domain_pre += domain.format(answer = answer)\n",
                "\n",
                "\n",
                "    with open(domain_path, \"w\") as file:\n",
                "        file.write(domain_pre)"
            ]
        },
        {
            "cell_type": "code",
            "execution_count": 14,
            "metadata": {},
            "outputs": [],
            "source": [
                "def main():\n",
                "    dataset = load_dataset(\"data/raw.csv\")\n",
                "    write_nlu(dataset, \"data/nlu.yml\")\n",
                "    write_domain(dataset, \"domain.yml\")\n",
                "\n",
                "main()"
            ]
        }
    ],
    "metadata": {
        "interpreter": {
            "hash": "c3a479ee2c0f6d4608bd4b4abc3d9cc4da433fe61729d2f6b8a80ada0b64770e"
        },
        "kernelspec": {
            "display_name": "Python 3.7.13 ('virtual-therapist')",
            "language": "python",
            "name": "python3"
        },
        "language_info": {
            "codemirror_mode": {
                "name": "ipython",
                "version": 3
            },
            "file_extension": ".py",
            "mimetype": "text/x-python",
            "name": "python",
            "nbconvert_exporter": "python",
            "pygments_lexer": "ipython3",
            "version": "3.7.13"
        },
        "metadata": {
            "interpreter": {
                "hash": "039b48d427d390c8e5ebd0e86b6b155395b7cfc4f473ed8c8e1911fdfc6cb70e"
            }
        }
    },
    "nbformat": 4,
    "nbformat_minor": 4
}
